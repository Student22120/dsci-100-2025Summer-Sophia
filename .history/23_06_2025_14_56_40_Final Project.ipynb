{
 "cells": [
  {
   "cell_type": "markdown",
   "id": "faee59c9-9ae0-43a0-8f68-e0700277d814",
   "metadata": {},
   "source": [
    "Final Data Sci 100 Project - Sophia Koronczay 87575445"
   ]
  },
  {
   "cell_type": "markdown",
   "id": "7e095bc4-6d5c-4a64-a510-1bea62191e4a",
   "metadata": {},
   "source": [
    "Introduction\n",
    "\n",
    "Online games such as MineCraft are hosted on servers which can allow the data of its users to be collected. A research group in Computer Science at UBC, led by Frank Wood, collected data such as user engagment or age. Data like this can be valuable to researchers who aim to answer predictive questions about their users or to make calculated changes to the game, software, or advertising. This study aims to answer which \"kinds\" of players are most likely to contribute a large amount of data so that we can target those players in our recruiting efforts(Question 2). To investigate this we will address if there is a relationship between player experience level and total game time. Since experience levle is assumed to be self reported (as minecraft doesnt have levles) and may be inaccurate, the study also investigates if age and frequency of play sessions can be accurate predictor for experience level and thus total game time (amount of data). Through this we can identify if players more likely to contribute large amounts of data (ie:total play hours).\n",
    "\n",
    "The data contained within players.csv and sessions.csv used to answer this question was hashedEmail (character variable of user ID), experience (catagorical variable containing:\"Beginner\", \"Amateur\", \"Regular\", \"Pro\", or \"Veteran\"), played_hours(numerical variable of total per hashed email), and Age (numerical variable) some of which contained NA values which were removed. Other columns were: start_time, end_time, original_start_time, original_end_time, subscribe, name, gender which were not used. There was a total of 196 observations once both data sets were joined by hashed email. Additionally, several play sessions were recorded per user ID, thus these were aggregated during analysis prior to modeling."
   ]
  },
  {
   "cell_type": "markdown",
   "id": "c2f0602f-567b-47ce-8afa-ae5cfc1e3d93",
   "metadata": {},
   "source": [
    "Methods and Results\n",
    "To begin, the necessary libraries and data were loaded in."
   ]
  },
  {
   "cell_type": "code",
   "execution_count": null,
   "id": "48c440db-91d8-4ee7-9862-1f81bb085dad",
   "metadata": {},
   "outputs": [],
   "source": [
    "library(tidyverse)\n",
    "library(tidymodels)\n",
    "library(tidyclust)\n",
    "library(repr)\n",
    "library(GGally)\n",
    "options(repr.matrix.max.rows = 6)"
   ]
  },
  {
   "cell_type": "markdown",
   "id": "ccb6d305-5d55-4c95-b9cd-c7fae6bb054a",
   "metadata": {},
   "source": [
    "Next, data was read in and intial wrangling was completed to join the two seperate data frames together by matching the \"hashedEmail\" which functions as the users ID."
   ]
  },
  {
   "cell_type": "code",
   "execution_count": null,
   "id": "c9930fab-6599-4907-aac1-773ef0bd3f5a",
   "metadata": {},
   "outputs": [],
   "source": [
    "players<- read_csv(\"players.csv\")\n",
    "sessions<- read_csv(\"sessions.csv\")\n",
    "sessions\n",
    "players\n",
    "#join data frames\n",
    "all_data<- inner_join(sessions,players, by = \"hashedEmail\")\n",
    "all_data"
   ]
  },
  {
   "cell_type": "markdown",
   "id": "df2d7104-067b-41cd-b29f-0e0da4daa87d",
   "metadata": {},
   "source": [
    "The inital goal was to visually look if there is a trend between experience levle and played hours through a bar graph. Ie: we want to identify which experience groups would give the most amount of data. To begin, the experience data must be reordered to reflect the most beginner to the most experienced player."
   ]
  },
  {
   "cell_type": "code",
   "execution_count": null,
   "id": "cbf2b739-530a-4655-a2a8-e2cf8854e7ca",
   "metadata": {},
   "outputs": [],
   "source": [
    "all_data <- all_data|>\n",
    "mutate(experience = factor(experience, levels = c(\"Beginner\", \"Amateur\", \"Regular\", \"Pro\", \"Veteran\")))"
   ]
  },
  {
   "cell_type": "markdown",
   "id": "20a34776-78c8-4932-87d7-a933c5e8eaec",
   "metadata": {},
   "source": [
    "In the process of wrangling it was important to check to see if played_hours is per session or per player."
   ]
  },
  {
   "cell_type": "code",
   "execution_count": null,
   "id": "902a8d90-1f5a-4c32-9125-12f22197bf7b",
   "metadata": {},
   "outputs": [],
   "source": [
    "all_data|>\n",
    "count(hashedEmail)|>\n",
    "arrange(desc(n))"
   ]
  },
  {
   "cell_type": "markdown",
   "id": "c3329515-cfdc-4885-a24b-0433ee62819c",
   "metadata": {},
   "source": [
    "The large amounts of each hashed email indicates that played_hours is per session, thus to get total play time it must be summarized into one number that reflects total play time per player. This is acheived by grouping by hashed email, and the other predictors later used in analysis, and computing the sum of played hours per email. Additionally, the amount of sessions is calculated by counting the occurances of hashedEmail and storing it as session_count for later analysis."
   ]
  },
  {
   "cell_type": "code",
   "execution_count": null,
   "id": "25aec08e-4c8f-4d68-aae0-85aa55909f4f",
   "metadata": {},
   "outputs": [],
   "source": [
    "play_time<- all_data|>\n",
    "group_by(hashedEmail,experience,Age)|>\n",
    "summarise(total_hours = sum(played_hours, na.rm = TRUE),\n",
    "         session_count = n())|>\n",
    "ungroup()"
   ]
  },
  {
   "cell_type": "markdown",
   "id": "a9ddb97a-b00a-4a2a-8f74-9289e65e686b",
   "metadata": {},
   "source": [
    "To explore which experience levles contribute the most to the data of total time played, we visualize the average total hours of play time by experience levle."
   ]
  },
  {
   "cell_type": "code",
   "execution_count": null,
   "id": "2680d802-eea5-450e-a3af-e0ccc57cfeb5",
   "metadata": {},
   "outputs": [],
   "source": [
    "play_time_plot<-play_time|> \n",
    "group_by(experience)|>\n",
    "summarise(avg_hours = mean (total_hours, na.rm = TRUE))|>\n",
    "ggplot(aes(x=experience, y=avg_hours)) + \n",
    "    geom_col(alpha = 0.6) +\n",
    "    xlab(\"Experience Level\") + ylab(\"Total Time Played (Hrs)\")+\n",
    "    ggtitle(\"Total Time Played Across All Sessions Versus Players Experience Level\") +\n",
    "    theme(text = element_text(size = 12))\n",
    "play_time_plot\n",
    "#The plot lets me identify that \"Regulars\" and \"Amateurs\" have the most game time, thus providing the most data. The reason why I want to predict experience level by age is incase experience levles are self proclaimed and not accurate. I want to establish a trend with a variable that is concrete and unchanging with bias.\n",
    "#The question now becomes: What kinds of players by age group are most likely to fall into experience levels associated with the highest total game time/amount of data?"
   ]
  },
  {
   "cell_type": "markdown",
   "id": "e1d5144a-c399-464a-86c1-78c85c4789bc",
   "metadata": {},
   "source": [
    "Figure 1- Average total hours by experience levle where x= experience levle ordered by least to most experience, y = total time played. Amateur and Regular have the highest mean total time played across n=196."
   ]
  },
  {
   "cell_type": "markdown",
   "id": "854ee5d7-493c-4d73-87e9-53262fb02afe",
   "metadata": {},
   "source": [
    "Now that the experience levels associated with the highest total play times have been identified, KNN classification can be utilised to see if age and number of play sessions can  predict experience levels likely to yeild large amounts of data (ie:high total play time). To begin, the already selected data of total play time, sesion_count, age, and experience. A seed is set for reproducibliity in the model."
   ]
  },
  {
   "cell_type": "code",
   "execution_count": null,
   "id": "3637d077-006a-4bb2-a590-42b9de90e4c7",
   "metadata": {},
   "outputs": [],
   "source": [
    "play_time_clean <- play_time|>\n",
    "filter(!is.na(Age), !is.na(experience), !is.na(session_count))\n",
    "set.seed(2020)"
   ]
  },
  {
   "cell_type": "markdown",
   "id": "a1b0af44-1b98-4eca-807d-d08198d6beac",
   "metadata": {},
   "source": [
    "Next the data is split into training and testing sets with a proportion of 75% training to 25% testing to maintain the distribution of experience across both sets."
   ]
  },
  {
   "cell_type": "code",
   "execution_count": null,
   "id": "d5b50dcc-933e-43dc-9f10-b6a6fd32aad2",
   "metadata": {},
   "outputs": [],
   "source": [
    "data_split<- initial_split(play_time_clean, prop = 0.75, strata = experience)\n",
    "train_data <- training(data_split)\n",
    "test_data <- testing(data_split)"
   ]
  },
  {
   "cell_type": "markdown",
   "id": "245780e4-6ea0-411e-acd1-56e86bdb9e9f",
   "metadata": {},
   "source": [
    "Next the number of observations for each experience levele are checked for cross validation to ensure the folds chosen for cross validation contain all experience levles."
   ]
  },
  {
   "cell_type": "code",
   "execution_count": null,
   "id": "b2b4dd22-f09c-4d4e-a645-556b18185704",
   "metadata": {},
   "outputs": [],
   "source": [
    "count(train_data, experience)"
   ]
  },
  {
   "cell_type": "markdown",
   "id": "303ce6e2-5b92-41f0-bd6b-9fc3f9315237",
   "metadata": {},
   "source": [
    "Since there is n=9 for pro, I will reduce the flolds from 5->3 in the cross validation to ensure that every experience level is in each fold."
   ]
  },
  {
   "cell_type": "markdown",
   "id": "f26b85b9-a598-42a7-88fa-3547b1939475",
   "metadata": {},
   "source": [
    "Next the recipe to standardize numerical predictiors and specify the variables in this classification was created."
   ]
  },
  {
   "cell_type": "code",
   "execution_count": null,
   "id": "546bf96b-f125-484b-b146-bb4e0a09ae7b",
   "metadata": {},
   "outputs": [],
   "source": [
    "experience_recipe <-recipe(experience ~ Age + session_count, data = train_data)|>\n",
    "step_center(all_predictors()) |>\n",
    "step_scale(all_predictors())"
   ]
  },
  {
   "cell_type": "markdown",
   "id": "54789054-fb67-4ca9-ba2f-6eee612253b5",
   "metadata": {},
   "source": [
    "Next, the KNN model with tuneable number of neighbors is made so that the optimal number for K can be selected."
   ]
  },
  {
   "cell_type": "code",
   "execution_count": null,
   "id": "8bf49adf-4fd9-4c94-a69e-7e3e0693ff0a",
   "metadata": {},
   "outputs": [],
   "source": [
    "model_spec<- nearest_neighbor(weight_func = \"rectangular\", neighbors = tune ())|>\n",
    "set_engine(\"kknn\")|>\n",
    "set_mode(\"classification\")"
   ]
  },
  {
   "cell_type": "markdown",
   "id": "9c5666e7-3aa5-4b24-84d7-8c97bb500727",
   "metadata": {},
   "source": [
    "Next a 3 fold cross validation to evaluate model performance is created as well as a grid of k values to tune."
   ]
  },
  {
   "cell_type": "code",
   "execution_count": null,
   "id": "0582d281-5d86-4f89-ac99-d645768581e3",
   "metadata": {},
   "outputs": [],
   "source": [
    "numbervfold <- vfold_cv(train_data, v = 3, strata = experience)\n",
    "k_vals <- tibble(neighbors = seq(from = 1, to = 10, by =1))"
   ]
  },
  {
   "cell_type": "markdown",
   "id": "fc050f20-ca1a-4925-ae09-31c248e4a3e3",
   "metadata": {},
   "source": [
    "The specified model and recipe are implemented into a workflow with tune to determine the K with highest accuracy for the variables in question. The accuracy of different K values is extracted from the workflow and the number of neighbors is treated as numeric."
   ]
  },
  {
   "cell_type": "code",
   "execution_count": null,
   "id": "57e34043-4c90-42bf-acdc-df1017e9e501",
   "metadata": {},
   "outputs": [],
   "source": [
    "tune_data <- workflow()|>\n",
    "add_recipe (experience_recipe) |>\n",
    "add_model (model_spec) |>\n",
    "tune_grid(resamples = numbervfold, grid = k_vals)\n",
    "\n",
    "number_metrics <- tune_data|>\n",
    "collect_metrics() |>\n",
    "filter(.metric ==\"accuracy\")|>\n",
    "mutate(neighbors = as.double(neighbors))|>\n",
    "filter(!is.na(mean))"
   ]
  },
  {
   "cell_type": "markdown",
   "id": "fb1309b8-ba35-45a5-a2de-c51f124dadec",
   "metadata": {},
   "source": [
    "A cross evaluation plot was then utilised to model the accuracy of different values of K for this model"
   ]
  },
  {
   "cell_type": "code",
   "execution_count": null,
   "id": "92252fdc-3888-4bf9-88cb-4a4b9575a27f",
   "metadata": {},
   "outputs": [],
   "source": [
    "cross_val_plot <- ggplot(number_metrics, aes(x = neighbors, y = mean)) +\n",
    "geom_point()+\n",
    "geom_line()+\n",
    "labs(x = \"Number of Neighbors (K)\", y =\n",
    "\"Accuracy Estimate\", title= \"KNN Cross-Validation Accuracy\")+ scale_x_continuous (breaks = seq(1, 10, by = 1))\n",
    "cross_val_plot"
   ]
  },
  {
   "cell_type": "markdown",
   "id": "1a7e3091-0031-4b00-adf8-316c8bc4f2cd",
   "metadata": {},
   "source": [
    "Figure 2 - KNN Cross-Validation accuracy for the model predicting experience levle from number of play sessions and age revealting highest accuracy of about 33% with K=5."
   ]
  },
  {
   "cell_type": "markdown",
   "id": "07fc24cd-f845-4579-8ee1-c63003b02693",
   "metadata": {},
   "source": [
    "The final model then was defined with K=5 based on the KNN Cross-Validation Accuracy. Then a final fit on the training data was completed. "
   ]
  },
  {
   "cell_type": "code",
   "execution_count": null,
   "id": "14f43d2f-a184-49b1-91c5-35d4f6d6aaa3",
   "metadata": {},
   "outputs": [],
   "source": [
    "#best k to use is:K=5\n",
    "\n",
    "final_spec<- nearest_neighbor(weight_func = \"rectangular\", neighbors = 5)|>\n",
    "set_engine(\"kknn\")|>\n",
    "set_mode(\"classification\")\n",
    "                              \n",
    "final_workflow <- workflow()|>\n",
    "add_recipe(experience_recipe)|>\n",
    "add_model(final_spec)\n",
    "                              \n",
    "final_fit <- fit(final_workflow, data = train_data)"
   ]
  },
  {
   "cell_type": "markdown",
   "id": "ac07524b-ac0e-4a4d-940d-97b23de8290d",
   "metadata": {},
   "source": [
    "Lastly, a prediction on the test set as well as an evaluation was preformed through the metrics of the prediction as well as a confusion matrix to visulize if precision or recall have any significant addditions for later analysis. "
   ]
  },
  {
   "cell_type": "code",
   "execution_count": null,
   "id": "51263f47-f5fc-488b-a6a5-9481de9d096a",
   "metadata": {},
   "outputs": [],
   "source": [
    "test_predictions<-(predict(final_fit, new_data = test_data))|>\n",
    "bind_cols(test_data)\n",
    "                              \n",
    "test_metrics <-test_predictions |>\n",
    "metrics(truth = experience, estimate = .pred_class)\n",
    "test_metrics"
   ]
  },
  {
   "cell_type": "code",
   "execution_count": null,
   "id": "63954b14-82b8-4d52-88e7-814c973eadcc",
   "metadata": {},
   "outputs": [],
   "source": [
    "final_conf_mat <- test_predictions |>\n",
    "conf_mat(truth = experience, estimate = .pred_class)\n",
    "final_conf_mat  "
   ]
  },
  {
   "cell_type": "markdown",
   "id": "93e495cd-3cbe-4fe9-b93a-a8d1516ce4c4",
   "metadata": {},
   "source": [
    "Figure 3 - Confusion matrix for experience levles predited by number of play sessions and age."
   ]
  },
  {
   "cell_type": "markdown",
   "id": "69504f20-e17c-49b9-ad06-a686cd9301e5",
   "metadata": {},
   "source": [
    "Discussion \n",
    "\n",
    "The goal of this analysis was to determine which players contibute the most gameplay data, modeled by total play time by experience levle. Additionally, whether we could predict the experience of players by more concrete variables that are not self proclaimed to back up our prediction. As seen in Figure 1, we identified that Regular and Amateur players contributed one average the most total play time across all experience levles. This means these catagories of players would contribute the most to the quantity of game play data collected since the play time is the longest. Since, experience levle is likely self reported since a game like MineCraft does not have levles, the KNN model was used to see if other predictors could help identify which players fell into Regular and Amateur, thus predicting large data contributers. As seen in Figure 2, using age and number of sessions as predictors, the cross validation accuracy was best at K=5 at ~33%. Additionally, it preformed poorly on the test set with an accuracy of 18% and a negative kap. Laslly, the confusion matrix in Figure 3 misclassifies majority of the experience levles especically with the levle of Regular which is important for this analysis, The low accuracy and inability to predict experience levle suggests that the model is poor and age ith session count alone are not sufficient to classyify experience levle throguh KNN classification. This is not what was expected as the selected predictors seemed to be alligned with providing a related way to lable data. If using this analysis alone, the researchers likely could rely on Regular and Amateur players to contribute on average the most total play time across all experience levles. However, further data analysis should be done to see if more predictors can make this process more robust such as session duration, or in game stats with a model that supports the accuracy of this prediction. Once this is acheived, the reaserch could be supplimented with further investigation into questions such as if experience levle can change over time with increase game play, thus altering the models accuracy if only reported once. "
   ]
  },
  {
   "cell_type": "code",
   "execution_count": null,
   "id": "6657872f-49be-4a16-9ec1-465032ce28e1",
   "metadata": {},
   "outputs": [],
   "source": []
  }
 ],
 "metadata": {
  "kernelspec": {
   "display_name": "R",
   "language": "R",
   "name": "ir"
  },
  "language_info": {
   "codemirror_mode": "r",
   "file_extension": ".r",
   "mimetype": "text/x-r-source",
   "name": "R",
   "pygments_lexer": "r",
   "version": "4.3.3"
  }
 },
 "nbformat": 4,
 "nbformat_minor": 5
}
