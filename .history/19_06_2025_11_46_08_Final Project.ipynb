{
 "cells": [
  {
   "cell_type": "markdown",
   "id": "faee59c9-9ae0-43a0-8f68-e0700277d814",
   "metadata": {},
   "source": [
    "Final Data Sci 100 Project - Sophia Koronczay 87575445"
   ]
  },
  {
   "cell_type": "code",
   "execution_count": null,
   "id": "48c440db-91d8-4ee7-9862-1f81bb085dad",
   "metadata": {},
   "outputs": [],
   "source": [
    "library(tidyverse)\n",
    "library(tidymodels)\n",
    "library(tidyclust)\n",
    "library(repr)\n",
    "library(GGally)\n",
    "options(repr.matrix.max.rows = 6)"
   ]
  },
  {
   "cell_type": "markdown",
   "id": "ccb6d305-5d55-4c95-b9cd-c7fae6bb054a",
   "metadata": {},
   "source": [
    "Predictive Guiding Question (Question 2): We would like to know which \"kinds\" of players are most likely to contribute a large amount of data so that we can target those players in our recruiting efforts.\n",
    "\n",
    "My specific Predictive Question based on above:\n",
    "Is there a relationship between player experience level and total game time and is age group a predictor for experience level and thus total game time (amount of data)."
   ]
  },
  {
   "cell_type": "code",
   "execution_count": null,
   "id": "c9930fab-6599-4907-aac1-773ef0bd3f5a",
   "metadata": {},
   "outputs": [],
   "source": [
    "#read in data\n",
    "players<- read_csv(\"players.csv\")\n",
    "sessions<- read_csv(\"sessions.csv\")\n",
    "sessions\n",
    "players\n",
    "#join data frames\n",
    "all_data<- inner_join(sessions,players, by = \"hashedEmail\")\n",
    "all_data"
   ]
  },
  {
   "cell_type": "markdown",
   "id": "df2d7104-067b-41cd-b29f-0e0da4daa87d",
   "metadata": {},
   "source": [
    "Inital goal: Visually look if there is a trend between experience levle and played hours through a scatterplot. Ie: we want to identify which groups would give the most amount of data\n"
   ]
  },
  {
   "cell_type": "code",
   "execution_count": null,
   "id": "cbf2b739-530a-4655-a2a8-e2cf8854e7ca",
   "metadata": {},
   "outputs": [],
   "source": [
    "#order experience data\n",
    "all_data <- all_data|>\n",
    "mutate(experience = factor(experience, levels = c(\"Beginner\", \"Amateur\", \"Regular\", \"Pro\", \"Veteran\")))\n",
    "\n",
    "#check to see if played_hours is per session or per player\n",
    "# all_data|>\n",
    "# count(hashedEmail)|>\n",
    "# arrange(desc(n))\n",
    "\n",
    "#hashedEmails appear more than once, thus total play_time must be summarized into one number that reflects total play time per player\n",
    "\n",
    "play_time<- all_data|>\n",
    "group_by(hashedEmail,experience,gender,Age)|>\n",
    "summarise(total_hours = sum(played_hours, na.rm = TRUE))|>\n",
    "ungroup()\n",
    "\n",
    "play_time_plot<-play_time|> \n",
    "group_by(experience)|>\n",
    "summarise(avg_hours = mean (total_hours, na.rm = TRUE))|>\n",
    "ggplot(aes(x=experience, y=avg_hours)) + \n",
    "    geom_col(alpha = 0.6) +\n",
    "    xlab(\"Experience Level\") + ylab(\"Total Time Played (Hrs)\")+\n",
    "    ggtitle(\"Total Time Played Across All Sessions Versus Players Experience Level\") +\n",
    "    theme(text = element_text(size = 12))\n",
    "play_time_plot\n",
    "#The plot lets me identify that \"Regulars\" and \"Amateurs\" have the most game time, thus providing the most data.\n",
    "#The question now becomes: What kinds of players by age group are most likely to fall into experience levels associated with the highest total game time/amount of data?"
   ]
  },
  {
   "cell_type": "code",
   "execution_count": null,
   "id": "3637d077-006a-4bb2-a590-42b9de90e4c7",
   "metadata": {},
   "outputs": [],
   "source": [
    "#Now I will establish if age is related to player experience level\n",
    "#This will help to see if age can predict if the player will give the most data for researches in terms of play time\n",
    "\n",
    "play_time_clean <- play_time|>\n",
    "filter(!is.na(Age), !is.na(experience), !is.na(gender))\n",
    "\n",
    "#split my data\n",
    "set.seed(2020)\n",
    "\n",
    "data_split<- initial_split(play_time_clean, prop = 0.75, strata = experience)\n",
    "train_data <- training(data_split)\n",
    "test_data <- testing(data_split)\n",
    "\n",
    "#Check counts for cross validation:\n",
    "# count(train_data, experience)\n",
    "#Since there is n=9 for pro, I will reduce the flolds from 5->3 in the cross validation to ensure that every experience level is in each fold.\n",
    "\n",
    "#create recipe\n",
    "experience_recipe <-recipe(experience ~ Age, data = train_data)|>\n",
    "step_center(all_predictors()) |>\n",
    "step_scale(all_predictors())\n",
    "#model\n",
    "model_spec<- nearest_neighbor(weight_func = \"rectangular\", neighbors = tune ())|>\n",
    "set_engine(\"kknn\")|>\n",
    "set_mode(\"classification\")\n",
    "#Cross Validation                              \n",
    "numbervfold <- vfold_cv(train_data, v = 3, strata = experience)\n",
    "k_vals <- tibble(neighbors = seq(from = 1, to = 10))\n",
    "\n",
    "tune_data <- workflow()|>\n",
    "add_recipe (experience_recipe) |>\n",
    "add_model (model_spec) |>\n",
    "tune_grid(resamples = numbervfold, grid = k_vals)\n",
    "    \n",
    "number_metrics <- tune_data|>\n",
    "collect_metrics() |>\n",
    "filter(.metric ==\"accuracy\")|>\n",
    "mutate(neighbors = as.double(neighbors))|>\n",
    "filter(!is.na(mean))\n",
    "\n",
    "cross_val_plot <- ggplot(number_metrics, aes(x = neighbors, y = mean)) +\n",
    "geom_point()+\n",
    "geom_line()+\n",
    "labs(x = \"Number of Neighbors (K)\", y =\n",
    "\"Accuracy Estimate\", title= \"KNN Cross-Validation Accuracy\")+ scale_x_continuous (breaks = seq(1, 10, by = 1))\n",
    "cross_val_plot\n",
    "#Accuracy is about 40% with K=9 or K=10\n",
    "\n",
    "#best k to use is:\n",
    "\n",
    "final_spec<- nearest_neighbor(weight_func = \"rectangular\", neighbors = 9)|>\n",
    "set_engine(\"kknn\")|>\n",
    "set_mode(\"classification\")\n",
    "                              \n",
    "final_workflow <- workflow()|>\n",
    "add_recipe(experience_recipe)|>\n",
    "add_model(final_spec)\n",
    "                              \n",
    "final_fit <- fit(final_workflow, data = train_data)\n",
    "test_predictions<-(predict(final_fit, new_data = test_data))|>\n",
    "bind_cols(test_data)\n",
    "                              \n",
    "test_metrics <-test_predictions |>\n",
    "metrics(truth = experience, estimate = .pred_class)\n",
    "\n",
    "final_conf_mat <- test_predictions |>\n",
    "conf_mat(truth = experience, estimate = .pred_class)\n",
    "                   \n",
    "test_metrics\n",
    "final_conf_mat \n",
    "\n",
    "                              "
   ]
  },
  {
   "cell_type": "code",
   "execution_count": null,
   "id": "29bbfa30-0f41-40b7-9a6c-7646dbe3fc06",
   "metadata": {},
   "outputs": [],
   "source": []
  }
 ],
 "metadata": {
  "kernelspec": {
   "display_name": "R",
   "language": "R",
   "name": "ir"
  },
  "language_info": {
   "codemirror_mode": "r",
   "file_extension": ".r",
   "mimetype": "text/x-r-source",
   "name": "R",
   "pygments_lexer": "r",
   "version": "4.3.3"
  }
 },
 "nbformat": 4,
 "nbformat_minor": 5
}
